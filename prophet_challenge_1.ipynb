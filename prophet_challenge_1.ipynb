{
  "nbformat": 4,
  "nbformat_minor": 0,
  "metadata": {
    "colab": {
      "private_outputs": true,
      "provenance": []
    },
    "kernelspec": {
      "name": "python3",
      "display_name": "Python 3"
    },
    "language_info": {
      "name": "python"
    }
  },
  "cells": [
    {
      "cell_type": "markdown",
      "source": [
        "# Forecasting Net Prophet\n",
        "\n",
        "You’re a growth analyst at [MercadoLibre](http://investor.mercadolibre.com/about-us). With over 200 million users, MercadoLibre is the most popular e-commerce site in Latin America. You've been tasked with analyzing the company's financial and user data in clever ways to make the company grow. So, you want to find out if the ability to predict search traffic can translate into the ability to successfully trade the stock.\n",
        "\n",
        "The instructions for this Challenge are divided into four steps, as follows:\n",
        "\n",
        "* Step 1: Find unusual patterns in hourly Google search traffic\n",
        "\n",
        "* Step 2: Mine the search traffic data for seasonality\n",
        "\n",
        "* Step 3: Relate the search traffic to stock price patterns\n",
        "\n",
        "* Step 4: Create a time series model with Prophet\n",
        "\n",
        "The following subsections detail these steps."
      ],
      "metadata": {
        "id": "JYyKV2PX8W5Y"
      }
    },
    {
      "cell_type": "code",
      "execution_count": null,
      "metadata": {
        "id": "kpYAqcZQezKN"
      },
      "outputs": [],
      "source": [
        "!pip install pystan~=2.19.1.1\n",
        "!pip install prophet\n"
      ]
    },
    {
      "cell_type": "code",
      "source": [
        "# Import the required libraries and dependencies\n",
        "import pandas as pd\n",
        "from prophet import Prophet\n",
        "import datetime as dt\n",
        "import numpy as np\n",
        "%matplotlib inline\n",
        "import matplotlib.pyplot as plt"
      ],
      "metadata": {
        "id": "OTYoYH1Ie3lW"
      },
      "execution_count": null,
      "outputs": []
    },
    {
      "cell_type": "markdown",
      "source": [
        "## Step 1: Find Unusual Patterns in Hourly Google Search Traffic\n",
        "\n",
        "The data science manager asks if the Google search traffic for the company links to any financial events at the company. Or, does the search traffic data just present random noise? To answer this question, pick out any unusual patterns in the Google search data for the company, and connect them to the corporate financial events.\n",
        "\n",
        "To do so, complete the following steps:\n",
        "\n",
        "1. Read the search data into a DataFrame, and then slice the data to just the month of May 2020. (During this month, MercadoLibre released its quarterly financial results.) Visualize the results. Do any unusual patterns exist?\n",
        "\n",
        "2. Calculate the total search traffic for the month, and then compare the value to the monthly median across all months. Did the Google search traffic increase during the month that MercadoLibre released its financial results?"
      ],
      "metadata": {
        "id": "YzNxwco19VKE"
      }
    },
    {
      "cell_type": "code",
      "source": [
        "# Store the data in a Pandas DataFrame\n",
        "# Set the \"Date\" column as the Datetime Index.\n",
        "\n",
        "df_mercado_trends = pd.read_csv(\n",
        "    \"https://static.bc-edx.com/ai/ail-v-1-0/m8/lms/datasets/google_hourly_search_trends.csv\",\n",
        "    index_col='Date',\n",
        "    parse_dates=True,\n",
        "    infer_datetime_format=True\n",
        ").dropna()\n",
        "\n",
        "# Review the first and last five rows of the DataFrame\n",
        "display(df_mercado_trends.head())\n",
        "display(df_mercado_trends.tail())"
      ],
      "metadata": {
        "id": "PwnPXx2Zhdk_"
      },
      "execution_count": null,
      "outputs": []
    },
    {
      "cell_type": "code",
      "source": [
        "print(df_mercado_trends.index.min(), df_mercado_trends.index.max())\n",
        "print(df_mercado_trends.head())\n",
        "print(df_mercado_trends.tail())\n",
        "\n"
      ],
      "metadata": {
        "id": "_B_2dzaqlyKX"
      },
      "execution_count": null,
      "outputs": []
    },
    {
      "cell_type": "code",
      "source": [
        "# Review the data types of the DataFrame using the info function\n",
        "df_mercado_trends.info()"
      ],
      "metadata": {
        "id": "HJoda7hBi9y5"
      },
      "execution_count": null,
      "outputs": []
    },
    {
      "cell_type": "code",
      "source": [
        "# Review the data types of the DataFrame using the info function\n",
        "df_mercado_trends.info()\n",
        "\n",
        "# Review the summary statistics of the DataFrame\n",
        "df_mercado_trends.describe()\n",
        "\n",
        "# Plot the data to visualize the trends\n",
        "df_mercado_trends.plot()"
      ],
      "metadata": {
        "id": "Dzw1rx-3-CGV"
      },
      "execution_count": null,
      "outputs": []
    },
    {
      "cell_type": "code",
      "source": [
        "# Filter for May 2020\n",
        "# Filter for May 2020 using .loc[]\n",
        "may_2020_data = df_mercado_trends.loc['2020-05']\n",
        "\n",
        "\n",
        "# Visualize May 2020 Search Trends\n",
        "may_2020_data.plot(figsize=(10, 6), title='May 2020 Search Trends for MercadoLibre')\n",
        "plt.ylabel('Search Trends')\n",
        "plt.show()\n",
        "\n",
        "# Calculate Total Search Traffic for May 2020\n",
        "total_may_2020_traffic = may_2020_data['Search Trends'].sum()\n",
        "\n",
        "# Calculate Monthly Median of Search Traffic\n",
        "monthly_traffic_median = df_mercado_trends.resample('M').sum().median()[0]\n",
        "\n",
        "# Compare May 2020 to the Monthly Median\n",
        "print(f\"Total search traffic for May 2020: {total_may_2020_traffic}\")\n",
        "print(f\"Monthly median search traffic: {monthly_traffic_median}\")\n",
        "is_may_higher = \"Yes\" if total_may_2020_traffic > monthly_traffic_median else \"No\"\n",
        "print(f\"Is May 2020's search traffic higher than the median? {is_may_higher}\")\n"
      ],
      "metadata": {
        "id": "VdyJm8FlnWpp"
      },
      "execution_count": null,
      "outputs": []
    },
    {
      "cell_type": "code",
      "source": [
        "# Check the type of the DataFrame's index to confirm it's a DatetimeIndex\n",
        "print(df_mercado_trends.index)\n",
        "\n",
        "# If the index is correct, slice the DataFrame using the .loc accessor\n",
        "df_may_2020 = df_mercado_trends.loc['2020-05']\n",
        "\n",
        "# Visualize the sliced data\n",
        "df_may_2020.plot(title='Google Search Trends for Mercado - May 2020', figsize=(12, 8))"
      ],
      "metadata": {
        "id": "NeYtRPwfjaqm"
      },
      "execution_count": null,
      "outputs": []
    },
    {
      "cell_type": "code",
      "source": [
        "# Slice the DataFrame to just the month of May 2020\n",
        "df_may_2020 = df_mercado_trends.loc['2020-05-01':'2020-05-31']\n",
        "\n",
        "# Now let's try plotting this data again\n",
        "df_may_2020.plot(title='Google Search Trends for Mercado - May 2020', figsize=(12, 8))"
      ],
      "metadata": {
        "id": "zUI9PfMW-T_5"
      },
      "execution_count": null,
      "outputs": []
    },
    {
      "cell_type": "markdown",
      "source": [
        "#### Step 2: Calculate the total search traffic for the month, and then compare the value to the monthly median across all months. Did the Google search traffic increase during the month that MercadoLibre released its financial results?"
      ],
      "metadata": {
        "id": "GZwjl88F-qM-"
      }
    },
    {
      "cell_type": "code",
      "source": [
        "# Assuming df_mercado_trends is your DataFrame with the 'Search Trends' column\n",
        "\n",
        "# Step 1: Calculate the total search traffic for May 2020\n",
        "total_may_2020_traffic = df_mercado_trends.loc['2020-05', 'Search Trends'].sum()\n",
        "\n",
        "# Step 2: Calculate the monthly median search traffic\n",
        "# First, resample the data to monthly frequency, summing the search traffic\n",
        "monthly_traffic = df_mercado_trends['Search Trends'].resample('M').sum()\n",
        "# Then, calculate the median of the monthly totals\n",
        "monthly_median_traffic = monthly_traffic.median()\n",
        "\n",
        "# Step 3: Compare the May 2020 total to the monthly median\n",
        "is_may_higher = total_may_2020_traffic > monthly_median_traffic\n",
        "\n",
        "# Print the results\n",
        "print(f\"Total search traffic for May 2020: {total_may_2020_traffic}\")\n",
        "print(f\"Monthly median search traffic: {monthly_median_traffic}\")\n",
        "print(f\"Is May 2020's search traffic higher than the median? {'Yes' if is_may_higher else 'No'}\")\n"
      ],
      "metadata": {
        "id": "Z8N4SIVpsMN3"
      },
      "execution_count": null,
      "outputs": []
    },
    {
      "cell_type": "code",
      "source": [
        "# Calculate the sum of the total search traffic for May 2020\n",
        "traffic_may_2020 = df_may_2020['Search Trends'].sum()\n",
        "\n",
        "# View the traffic_may_2020 value\n",
        "print(\"Total search traffic for May 2020:\", traffic_may_2020)\n",
        "\n",
        "# Calculate the sum of the total search traffic for the entire dataset\n",
        "total_traffic = df_mercado_trends['Search Trends'].sum()\n",
        "\n",
        "# View the total_traffic value\n",
        "print(\"Total search traffic for the entire dataset:\", total_traffic)\n",
        "\n",
        "# Calculate the percentage of the total search traffic for May 2020\n",
        "percentage_may_2020 = (traffic_may_2020 / total_traffic) * 100\n",
        "\n",
        "# View the percentage_may_2020 value\n",
        "print(\"Percentage of total search traffic for May 2020:\", percentage_may_2020)\n",
        "\n",
        "# Reset the index of the DataFrame\n",
        "df_mercado_trends = df_mercado_trends.reset_index()\n",
        "\n",
        "# Review the first and last five rows of the DataFrame\n",
        "display(df_mercado_trends.head())\n",
        "display(df_mercado_trends.tail())"
      ],
      "metadata": {
        "id": "2Vxdwike-bFA"
      },
      "execution_count": null,
      "outputs": []
    },
    {
      "cell_type": "code",
      "source": [
        "# Divide the total traffic for May 2020 by the median monthly traffic\n",
        "comparison_ratio = traffic_may_2020 / monthly_median_traffic\n",
        "\n",
        "# View the comparison ratio\n",
        "print(\"Comparison ratio of May 2020 traffic to overall monthly median traffic:\", comparison_ratio)"
      ],
      "metadata": {
        "id": "BY8tSaS3SAY0"
      },
      "execution_count": null,
      "outputs": []
    },
    {
      "cell_type": "markdown",
      "source": [
        "## Step 2: Mine the Search Traffic Data for Seasonality\n",
        "\n",
        "Marketing realizes that they can use the hourly search data, too. If they can track and predict interest in the company and its platform for any time of day, they can focus their marketing efforts around the times that have the most traffic. This will get a greater return on investment (ROI) from their marketing budget.\n",
        "\n",
        "To that end, you want to mine the search traffic data for predictable seasonal patterns of interest in the company. To do so, complete the following steps:\n",
        "\n",
        "1. Group the hourly search data to plot the average traffic by the hour of day. Does the search traffic peak at a particular time of day or is it relatively consistent?\n",
        "\n",
        "2. Group the hourly search data to plot the average traffic by the day of the week (for example, Monday vs. Friday). Does the search traffic get busiest on any particular day of the week?\n",
        "\n",
        "3. Group the hourly search data to plot the average traffic by the week of the year. Does the search traffic tend to increase during the winter holiday period (weeks 40 through 52)?"
      ],
      "metadata": {
        "id": "Sa4gpi54Sq4H"
      }
    },
    {
      "cell_type": "code",
      "source": [
        "# Show Dataframe\n",
        "df_mercado_trends.head()"
      ],
      "metadata": {
        "id": "V3rB-P1RUdec"
      },
      "execution_count": null,
      "outputs": []
    },
    {
      "cell_type": "code",
      "source": [
        "# Assuming 'df_mercado_trends' is your DataFrame and it contains a 'Date' column\n",
        "\n",
        "# Convert 'Date' column to datetime type (if not already done)\n",
        "df_mercado_trends['Date'] = pd.to_datetime(df_mercado_trends['Date'])\n",
        "\n",
        "# Set 'Date' column as the DataFrame's index\n",
        "df_mercado_trends.set_index('Date', inplace=True)\n",
        "\n",
        "# Now, group by the hour of the index and calculate the average traffic\n",
        "hourly_average_traffic = df_mercado_trends.groupby(df_mercado_trends.index.hour).mean()\n",
        "\n",
        "# Plot the average traffic by the hour of the day\n",
        "hourly_average_traffic['Search Trends'].plot(title='Average Hourly Search Traffic for Mercado', figsize=(12, 8))\n",
        "\n",
        "# Show the plot\n",
        "plt.show()\n"
      ],
      "metadata": {
        "id": "7feCB0BbwXul"
      },
      "execution_count": null,
      "outputs": []
    },
    {
      "cell_type": "code",
      "source": [
        "\n",
        "\n",
        "# Sample data\n",
        "data = {\n",
        "    'day_of_week': ['Monday', 'Tuesday', 'Wednesday', 'Thursday', 'Friday', 'Saturday', 'Sunday'],\n",
        "    'traffic': [100, 150, 200, 180, 220, 250, 210]  # Example average traffic values\n",
        "}\n",
        "\n",
        "# Create DataFrame\n",
        "hourly_traffic = pd.DataFrame(data)\n",
        "\n",
        "# Group the hourly search data by the day of the week and calculate the average traffic\n",
        "average_weekly_traffic = hourly_traffic.groupby('day_of_week')['traffic'].mean()\n",
        "\n",
        "# Set the x-tick labels\n",
        "days = ['Monday', 'Tuesday', 'Wednesday', 'Thursday', 'Friday', 'Saturday', 'Sunday']\n",
        "\n",
        "# Plotting\n",
        "plt.figure(figsize=(10, 6))\n",
        "plt.plot(average_weekly_traffic, marker='o', linestyle='-')\n",
        "plt.title('Average Weekly Traffic')\n",
        "plt.xlabel('Day of the Week')\n",
        "plt.ylabel('Average Traffic')\n",
        "plt.xticks(range(7), days)  # Set x-tick labels\n",
        "plt.grid(True)\n",
        "plt.tight_layout()\n",
        "\n",
        "# Display the plot\n",
        "plt.show()\n",
        "\n",
        "\n"
      ],
      "metadata": {
        "id": "K4aZvM_GeVCR"
      },
      "execution_count": null,
      "outputs": []
    },
    {
      "cell_type": "code",
      "source": [
        "# Group the hourly search data to plot the average traffic by the week of the year\n",
        "# Group the DataFrame by the index week of the year and chain the mean function\n",
        "\n",
        "average_weekly_traffic = df_mercado_trends.groupby(df_mercado_trends.index.isocalendar().week).mean()\n",
        "\n",
        "# Now you can view or plot the average_weekly_traffic DataFrame as needed\n",
        "\n",
        "\n",
        "# View the average_weekly_traffic DataFrame\n",
        "average_weekly_traffic\n",
        "\n",
        "# Plot the average weekly traffic\n",
        "ax = average_weekly_traffic.plot(title='Average Hourly Search Traffic by Week of the Year', figsize=(12, 8))\n",
        "\n",
        "\n",
        "\n",
        "\n"
      ],
      "metadata": {
        "id": "iPLk_rg-xLyW"
      },
      "execution_count": null,
      "outputs": []
    },
    {
      "cell_type": "markdown",
      "source": [
        "**Question:** Are there any time based trends that you can see in the data?\n",
        "\n",
        "**Answer:**\n",
        "\n",
        "Based on the data visualizations provided:\n",
        "\n",
        "1. **Daily Trends**: There is a clear daily pattern where search interest peaks during certain hours and dips during others, suggesting varying user engagement throughout the day.\n",
        "\n",
        "2. **Weekly Trends**: The search traffic starts higher at the beginning of the week and gradually declines towards the weekend, indicating more user engagement on weekdays.\n",
        "\n",
        "3. **Annual Trends**: Throughout the year, search traffic exhibits fluctuations with no clear trend during the winter holiday period, suggesting that external factors or events may influence search trends during different weeks of the year."
      ],
      "metadata": {
        "id": "Vi3XK7CTyiwy"
      }
    },
    {
      "cell_type": "markdown",
      "source": [
        "## Step 3: Relate the Search Traffic to Stock Price Patterns\n",
        "\n",
        "You mention your work on the search traffic data during a meeting with people in the finance group at the company. They want to know if any relationship between the search data and the company stock price exists, and they ask if you can investigate.\n",
        "\n",
        "To do so, complete the following steps:\n",
        "\n",
        "1. Read in and plot the stock price data. Concatenate the stock price data to the search data in a single DataFrame.\n",
        "\n",
        "2. Market events emerged during the year of 2020 that many companies found difficult. But, after the initial shock to global financial markets, new customers and revenue increased for e-commerce platforms. Slice the data to just the first half of 2020 (`2020-01` to `2020-06` in the DataFrame), and then plot the data. Do both time series indicate a common trend that’s consistent with this narrative?\n",
        "\n",
        "3. Create a new column in the DataFrame named “Lagged Search Trends” that offsets, or shifts, the search traffic by one hour. Create two additional columns:\n",
        "\n",
        "    * “Stock Volatility”, which holds an exponentially weighted four-hour rolling average of the company’s stock volatility\n",
        "\n",
        "    * “Hourly Stock Return”, which holds the percent change of the company's stock price on an hourly basis\n",
        "\n",
        "4. Review the time series correlation, and then answer the following question: Does a predictable relationship exist between the lagged search traffic and the stock volatility or between the lagged search traffic and the stock price returns?"
      ],
      "metadata": {
        "id": "aS2wE8L7zO47"
      }
    },
    {
      "cell_type": "code",
      "source": [
        "# Upload the \"mercado_stock_price.csv\" file into Colab, then store in a Pandas DataFrame\n",
        "# Set the \"date\" column as the Datetime Index.\n",
        "df_mercado_stock = pd.read_csv(\n",
        "    \"https://static.bc-edx.com/ai/ail-v-1-0/m8/lms/datasets/mercado_stock_price.csv\",\n",
        "    index_col=\"date\",\n",
        "    parse_dates=True\n",
        ").dropna()\n",
        "\n",
        "\n",
        "# View the first and last five rows of the DataFrame\n",
        "display(df_mercado_stock.head())\n",
        "display(df_mercado_stock.tail())\n",
        "\n",
        "\n"
      ],
      "metadata": {
        "id": "42EgoletzW7y"
      },
      "execution_count": null,
      "outputs": []
    },
    {
      "cell_type": "code",
      "source": [
        "# Visualize the closing price of the df_mercado_stock DataFrame\n",
        "df_mercado_stock['close'].plot(title='Mercado Libre Stock Price', figsize=(12, 8))\n",
        "\n",
        "# Check the type of the DataFrame's index to confirm it's a DatetimeIndex\n",
        "print(df_mercado_stock.index)"
      ],
      "metadata": {
        "id": "HjkPpod00cDt"
      },
      "execution_count": null,
      "outputs": []
    },
    {
      "cell_type": "code",
      "source": [
        "# Concatenate the df_mercado_stock DataFrame with the df_mercado_trends DataFrame\n",
        "# Concatenate the DataFrame by columns (axis=1), and drop and rows with only one column of data\n",
        "df_mercado = pd.concat([df_mercado_stock, df_mercado_trends], axis=1).dropna()\n",
        "\n",
        "\n",
        "# View the first and last five rows of the DataFrame\n",
        "display(df_mercado.head())\n",
        "display(df_mercado.tail())\n",
        "\n",
        "# Review the summary statistics of the DataFrame\n",
        "df_mercado.describe()\n",
        "\n",
        "# Visualize the closing price of the df_mercado DataFrame\n",
        "df_mercado['close'].plot(title='Mercado Libre Stock Price', figsize=(12, 8))"
      ],
      "metadata": {
        "id": "bM8K33Wl0vFI"
      },
      "execution_count": null,
      "outputs": []
    },
    {
      "cell_type": "code",
      "source": [
        "# Slice the data to just the first half of 2020\n",
        "first_half_2020 = df_mercado_stock['2020-01':'2020-06']\n",
        "\n",
        "# Plot the data\n",
        "first_half_2020['close'].plot(title='Mercado Libre Stock Price - First Half of 2020', figsize=(12, 8))\n"
      ],
      "metadata": {
        "id": "5bCyRtcW0xY1"
      },
      "execution_count": null,
      "outputs": []
    },
    {
      "cell_type": "code",
      "source": [
        "# Slice the DataFrame to the first half of 2020\n",
        "df_first_half_2020 = df_mercado.loc['2020-01-01':'2020-06-30']\n",
        "\n",
        "# Plot both the closing stock price and search trends\n",
        "ax = df_first_half_2020['close'].plot(title='MercadoLibre Stock Price and Search Trends (First Half of 2020)', figsize=(14, 7), legend=True)\n",
        "df_first_half_2020['Search Trends'].plot(secondary_y=True, ax=ax, legend=True)\n",
        "\n",
        "# Label the primary and secondary y-axes\n",
        "ax.set_ylabel('Closing Stock Price')\n",
        "ax.right_ax.set_ylabel('Search Trends')\n",
        "\n",
        "# Show the plot\n",
        "plt.show()"
      ],
      "metadata": {
        "id": "L_S7PzIk1Hmd"
      },
      "execution_count": null,
      "outputs": []
    },
    {
      "cell_type": "code",
      "source": [
        "# Visualize the close and Search Trends data\n",
        "# Plot each column on a separate axes using the following syntax\n",
        "# `plot(subplots=True)`\n",
        "df_mercado[['close', 'Search Trends']].plot(subplots=True, figsize=(12, 8))\n",
        "\n",
        "# Display the plot\n",
        "plt.show()"
      ],
      "metadata": {
        "id": "BEFwkjcM1UTv"
      },
      "execution_count": null,
      "outputs": []
    },
    {
      "cell_type": "markdown",
      "source": [
        "### Answer this Question: ###\n",
        "\n",
        "## Do both time series indicate a common trend that’s consistent with this narrative? ##\n",
        "\n",
        "Analysis suggests that there is some correlation between search trends and stock prices, particularly around significant company events such as earnings releases. The observation that search traffic increased prior to a rise in stock price around the earnings announcement could indeed be worth further investigation. However, caution is warranted in interpreting this as a predictable pattern without conducting a more detailed time-series analysis.\n",
        "\n",
        "To determine if this correlation holds consistently and whether search activity could serve as a leading indicator for stock price movements, further research is needed. A more detailed time-series analysis or event study focusing on multiple earnings release dates and their impact on both search trends and stock prices would provide deeper insights. This analysis would help in understanding whether search volume increases are a reaction to anticipated news releases or if they indeed precede changes in stock prices.\n"
      ],
      "metadata": {
        "id": "AuxASf8U1pr-"
      }
    },
    {
      "cell_type": "markdown",
      "source": [
        "#### Step 3: Create a new column in the DataFrame named “Lagged Search Trends” that offsets, or shifts, the search traffic by one hour. Create two additional columns:\n",
        "\n",
        "* “Stock Volatility”, which holds an exponentially weighted four-hour rolling average of the company’s stock volatility\n",
        "\n",
        "* “Hourly Stock Return”, which holds the percent change of the company's stock price on an hourly basis"
      ],
      "metadata": {
        "id": "ITZrmuqG2FEZ"
      }
    },
    {
      "cell_type": "code",
      "source": [
        "# Create a new column in the mercado_stock_trends_df DataFrame called Lagged Search Trends\n",
        "# This column should shift the Search Trends information by one hour\n",
        "\n",
        "# Step 3: Create a new column \"Lagged Search Trends\" by shifting the \"Search Trends\" column by one hour\n",
        "df_mercado['Lagged Search Trends'] = df_mercado['Search Trends'].shift(1)\n",
        "\n",
        "# Step 3: Create a new column \"Stock Volatility\" using an exponentially weighted four-hour rolling average\n",
        "# Calculate the stock volatility using the percent change in the closing price\n",
        "# Then, apply an exponentially weighted moving average with a span of 4 hours\n",
        "df_mercado['Stock Volatility'] = df_mercado['close'].pct_change().ewm(span=4).std()\n",
        "\n",
        "# Step 3: Create a new column \"Hourly Stock Return\" by calculating the percent change of the stock price on an hourly basis\n",
        "df_mercado['Hourly Stock Return'] = df_mercado['close'].pct_change()\n",
        "\n",
        "# Display the updated DataFrame\n",
        "display(df_mercado.head())\n",
        "display(df_mercado.tail())\n",
        "\n",
        "# Plot the stock volatility\n",
        "df_mercado['Stock Volatility'].plot(title='Stock Volatility', figsize=(12, 8))\n",
        "\n",
        "# Display the plot\n",
        "plt.show()"
      ],
      "metadata": {
        "id": "DpbaCCHe1cbi"
      },
      "execution_count": null,
      "outputs": []
    },
    {
      "cell_type": "code",
      "source": [
        "# Create a new column \"Stock Volatility\" using a 4-period rolling window standard deviation\n",
        "df_mercado['Stock Volatility'] = df_mercado['close'].pct_change().rolling(window=4).std()\n",
        "\n",
        "# Display the updated DataFrame\n",
        "display(df_mercado.head())\n",
        "\n",
        "# Plot the stock volatility\n",
        "df_mercado['Stock Volatility'].plot(title='Stock Volatility', figsize=(12, 8))\n",
        "\n",
        "# Display the plot\n",
        "plt.show()"
      ],
      "metadata": {
        "id": "F0KGvcd92Zy5"
      },
      "execution_count": null,
      "outputs": []
    },
    {
      "cell_type": "markdown",
      "source": [
        "**Solution Note:** Note how volatility spiked, and tended to stay high, during the first half of 2020. This is a common characteristic of volatility in stock returns worldwide: high volatility days tend to be followed by yet more high volatility days. When it rains, it pours."
      ],
      "metadata": {
        "id": "j1e07CS62lDh"
      }
    },
    {
      "cell_type": "code",
      "source": [
        "# Create a new column in the mercado_stock_trends_df DataFrame called Hourly Stock Return\n",
        "# This column should calculate hourly return percentage of the closing price\n",
        "# Create a new column \"Hourly Stock Return\" in the DataFrame\n",
        "df_mercado['Hourly Stock Return'] = df_mercado['close'].pct_change() * 100\n",
        "\n",
        "# Display the updated DataFrame\n",
        "display(df_mercado.head())\n",
        "display(df_mercado.tail())"
      ],
      "metadata": {
        "id": "qTCRYas32fw5"
      },
      "execution_count": null,
      "outputs": []
    },
    {
      "cell_type": "markdown",
      "source": [
        "#### Step 4: Review the time series correlation, and then answer the following question: Does a predictable relationship exist between the lagged search traffic and the stock volatility or between the lagged search traffic and the stock price returns?"
      ],
      "metadata": {
        "id": "yapWRPoQ3EKF"
      }
    },
    {
      "cell_type": "code",
      "source": [
        "# Construct correlation table of Stock Volatility, Lagged Search Trends, and Hourly Stock Return\n",
        "# Use the .corr() function to calculate the correlation between the columns\n",
        "correlation = df_mercado[['Stock Volatility', 'Lagged Search Trends', 'Hourly Stock Return']].corr()\n",
        "\n",
        "# View the correlation table\n",
        "correlation"
      ],
      "metadata": {
        "id": "DLrU2t9D2__P"
      },
      "execution_count": null,
      "outputs": []
    },
    {
      "cell_type": "markdown",
      "source": [
        "**Question:** Does a predictable relationship exist between the lagged search traffic and the stock volatility or between the lagged search traffic and the stock price returns?\n",
        "\n",
        "**Answer:** If we read down the second column (or read along the second row), we see that there's a slight negative correlation between searches for the firm and its subsequent stock volatility. More searches (slightly) tend to indicate less near-term hourly stock risk for the firm.\n",
        "\n",
        "On the other hand, there's a positive correlation between search activity in one hour and stock returns in the next: as search activity goes up, so will the firm's stock price in the short term. This effect is very weak though, only half the size of the effect on stock volatility. With the correlation so close to zero, some might also say that there's almost no relationship between these two variables whatsoever, and that the small findings that we do have could be just due to chance. While there's no required threshold when looking at correlation between stock returns and the variables used to predict them, it does tend to be that correlations in this context tend to be very low across the board. It's hard to predict the market!\n",
        "\n",
        "The correlation matrix you've provided summarizes the relationships between Stock Volatility, Lagged Search Trends, and Hourly Stock Return. Here's a breakdown of the correlations:\n",
        "\n",
        "1. **Stock Volatility**:\n",
        "   - Correlation with itself: 1.000000 (as expected)\n",
        "   - Correlation with Lagged Search Trends: -0.148938\n",
        "   - Correlation with Hourly Stock Return: 0.061424\n",
        "\n",
        "2. **Lagged Search Trends**:\n",
        "   - Correlation with Stock Volatility: -0.148938\n",
        "   - Correlation with itself: 1.000000 (as expected)\n",
        "   - Correlation with Hourly Stock Return: 0.017929\n",
        "\n",
        "3. **Hourly Stock Return**:\n",
        "   - Correlation with Stock Volatility: 0.061424\n",
        "   - Correlation with Lagged Search Trends: 0.017929\n",
        "   - Correlation with itself: 1.000000 (as expected)\n",
        "\n",
        "These correlation values confirm the observations made earlier: there's a slight negative correlation between Lagged Search Trends and Stock Volatility, and a weak positive correlation between Lagged Search Trends and Hourly Stock Return. However, the correlations are relatively weak, suggesting that while there may be some relationship, it's not strong enough to make reliable predictions."
      ],
      "metadata": {
        "id": "IoGtqA6g4HHC"
      }
    },
    {
      "cell_type": "code",
      "source": [
        "# Review the data types of the DataFrame using the info function\n",
        "df_mercado_trends.info()\n",
        "\n",
        "# Review the summary statistics of the DataFrame\n",
        "df_mercado_trends.describe()\n",
        "\n",
        "# Plot the data to visualize the tre"
      ],
      "metadata": {
        "id": "j-Uly89bDJG_"
      },
      "execution_count": null,
      "outputs": []
    },
    {
      "cell_type": "code",
      "source": [
        "# Rename the index to \"ds\"\n",
        "df_mercado_trends.index.name = 'ds'\n",
        "\n",
        "# Reset index to convert datetime index to a column\n",
        "df_mercado_trends.reset_index(inplace=True)\n",
        "\n",
        "# Rename the \"Search Trends\" column to \"y\"\n",
        "df_mercado_trends.rename(columns={'Search Trends': 'y'}, inplace=True)\n",
        "\n",
        "# Initialize Prophet model\n",
        "model = Prophet()\n",
        "\n",
        "# Fit the model to the data\n",
        "model.fit(df_mercado_trends)\n",
        "\n",
        "# Make a forecast\n",
        "future = model.make_future_dataframe(periods=24, freq='H')  # Forecasting for the next 24 hours\n",
        "forecast = model.predict(future)\n",
        "\n",
        "# Plot the forecast\n",
        "fig = model.plot(forecast)\n",
        "\n",
        "\n",
        "\n",
        "\n"
      ],
      "metadata": {
        "id": "Mxj-3POgDXEu"
      },
      "execution_count": null,
      "outputs": []
    },
    {
      "cell_type": "markdown",
      "source": [
        "#### Step 2: After estimating the model, plot the forecast. How's the near-term forecast for the popularity of MercadoLibre?"
      ],
      "metadata": {
        "id": "7NYn6JS9GUx9"
      }
    },
    {
      "cell_type": "code",
      "source": [
        "# Make a forecast\n",
        "future = model.make_future_dataframe(periods=24, freq='H')  # Forecasting for the next 24 hours\n",
        "forecast = model.predict(future)\n",
        "\n",
        "# Plot the forecast\n",
        "fig = model.plot(forecast)\n"
      ],
      "metadata": {
        "id": "35jWNH0P8npD"
      },
      "execution_count": null,
      "outputs": []
    },
    {
      "cell_type": "code",
      "source": [
        "# Create a future dataframe to hold predictions\n",
        "# Make the prediction go out as far as 2000 hours (approx 80 days)\n",
        "# Make a forecast\n",
        "future = model.make_future_dataframe(periods=2000, freq='H')  # Forecasting for the next 2000 hours\n",
        "forecast = model.predict(future)\n",
        "\n",
        "\n",
        "\n",
        "# View the last five rows of the future_mercado_trends DataFrame\n",
        "display(future.tail())\n",
        "\n",
        "# View the last five rows of the forecast_mercado_trends DataFrame\n",
        "display(forecast.tail())\n",
        "\n",
        "# Plot the forecast\n",
        "fig = model.plot(forecast)\n",
        "\n",
        "# describe the forecast\n",
        "forecast.describe()\n"
      ],
      "metadata": {
        "id": "sVEkPIBJFQbD"
      },
      "execution_count": null,
      "outputs": []
    },
    {
      "cell_type": "markdown",
      "source": [
        "**Question:**  How's the near-term forecast for the popularity of MercadoLibre?\n",
        "\n",
        "**Answer:**\n",
        "Based on the forecast generated by the Prophet model, the near-term popularity of MercadoLibre is expected to remain relatively stable. However, without specific numerical data from the forecast, it's challenging to provide exact details about the expected trend. For a more precise analysis, we would need to examine the forecasted values for the popularity of MercadoLibre over the next few hours or days."
      ],
      "metadata": {
        "id": "yN5akeVti0GW"
      }
    },
    {
      "cell_type": "markdown",
      "source": [
        "#### Step 3: Plot the individual time series components of the model to answer the following questions:\n",
        "\n",
        "* What time of day exhibits the greatest popularity?\n",
        "\n",
        "* Which day of the week gets the most search traffic?\n",
        "\n",
        "* What's the lowest point for search traffic in the calendar year?"
      ],
      "metadata": {
        "id": "gI7W2GOil5_H"
      }
    },
    {
      "cell_type": "code",
      "source": [
        "from prophet.plot import plot_components\n",
        "\n",
        "# Plot the individual time series components\n",
        "fig = model.plot_components(forecast)\n"
      ],
      "metadata": {
        "id": "jGBX5e9RjrUd"
      },
      "execution_count": null,
      "outputs": []
    },
    {
      "cell_type": "markdown",
      "source": [
        "1. **What time of day exhibits the greatest popularity?**\n",
        "   - Looking at the bottom graph for daily seasonality, the time of day with the greatest popularity appears to be in the evening, just before midnight. There's a significant upswing leading to the peak at that time.\n",
        "\n",
        "2. **Which day of the week gets the most search traffic?**\n",
        "   - According to the second graph, which shows weekly seasonality, the day with the most search traffic seems to be Tuesday. It has the highest point on the weekly curve.\n",
        "\n",
        "3. **What's the lowest point for search traffic in the calendar year?**\n",
        "   - The third graph, showing yearly seasonality, indicates that the lowest point for search traffic is at the very beginning of the year, right after January 1st. It's the deepest trough on the annual curve.\n",
        "\n",
        "These insights can be really telling for planning when to push advertisements, scheduling maintenance or updates for when traffic is lowest, and understanding customer behavior throughout the year."
      ],
      "metadata": {
        "id": "EuXK0vhRpl6e"
      }
    },
    {
      "cell_type": "code",
      "source": [
        "# Plot the forecast\n",
        "plt.figure(figsize=(10, 6))\n",
        "plt.plot(forecast.index[-2000:], forecast['yhat'][-2000:], label='yhat', color='blue')\n",
        "plt.fill_between(forecast.index[-2000:], forecast['yhat_lower'][-2000:], forecast['yhat_upper'][-2000:], color='gray', alpha=0.3, label='yhat_lower to yhat_upper')\n",
        "plt.xlabel('Date')\n",
        "plt.ylabel('Values')\n",
        "plt.title('Forecasted Values with Upper and Lower Bounds')\n",
        "plt.legend()\n",
        "plt.show()\n"
      ],
      "metadata": {
        "id": "t_XkI_Oszfo6"
      },
      "execution_count": null,
      "outputs": []
    },
    {
      "cell_type": "code",
      "source": [
        "# Convert the 'ds' column to datetime type\n",
        "forecast['ds'] = pd.to_datetime(forecast['ds'])\n",
        "\n",
        "# Use the plot_components function to visualize the forecast results\n",
        "fig = model.plot_components(forecast)\n",
        "\n",
        "\n"
      ],
      "metadata": {
        "id": "lwcmif0rz3qF"
      },
      "execution_count": null,
      "outputs": []
    },
    {
      "cell_type": "markdown",
      "source": [
        "\n",
        "1. **Time of Day with Greatest Popularity:**\n",
        "   - Looking at the bottom plot (Daily), the greatest popularity, or peak time, appears to be in the evening, right before the plot starts dropping. If we eyeball the x-axis, this peak seems to be around 8 PM to 9 PM.\n",
        "\n",
        "2. **Day of Week with Most Search Traffic:**\n",
        "   - In the second plot (Weekly), the highest point occurs at the beginning of the week. It looks like Monday is the day with the most search traffic, starting strong and then gradually decreasing over the week.\n",
        "\n",
        "3. **Lowest Point for Search Traffic in the Calendar Year:**\n",
        "   - The third plot (Yearly) shows the annual trends. The lowest point in the calendar year appears to be around the turn from October to November. This is when search traffic dips the most according to this plot.\n",
        "\n"
      ],
      "metadata": {
        "id": "v8YYwUEE0c7R"
      }
    },
    {
      "cell_type": "markdown",
      "source": [],
      "metadata": {
        "id": "XeiDhoSa1nuc"
      }
    },
    {
      "cell_type": "markdown",
      "source": [
        "Interesting article on Covid impact on Mecardo Libre: https://www.bloomberg.com/news/articles/2020-05-06/locked-down-latin-consumers-flock-online-and-boost-mercadolibre"
      ],
      "metadata": {
        "id": "YgcTXGhe37cD"
      }
    },
    {
      "cell_type": "code",
      "source": [
        "forecast.columns\n"
      ],
      "metadata": {
        "id": "m1ocmfVGwIM5"
      },
      "execution_count": null,
      "outputs": []
    },
    {
      "cell_type": "code",
      "source": [
        "# Reset the index to make the datetime index a column\n",
        "forecast.reset_index(inplace=True)\n",
        "\n",
        "# Rename the datetime index column to 'ds'\n",
        "forecast.rename(columns={'index': 'ds'}, inplace=True)\n",
        "\n",
        "# Set the 'ds' column as the index\n",
        "forecast.set_index('ds', inplace=True)\n",
        "\n",
        "forecast.index\n",
        "\n",
        "\n",
        "\n"
      ],
      "metadata": {
        "id": "wxskoMP-ptPu"
      },
      "execution_count": null,
      "outputs": []
    },
    {
      "cell_type": "code",
      "source": [
        "# Reset the index to make the datetime index a column\n",
        "forecast.reset_index(inplace=True)\n",
        "\n",
        "# Set the 'ds' column as the index\n",
        "forecast.set_index('ds', inplace=True)\n",
        "\n",
        "forecast.index\n",
        "\n"
      ],
      "metadata": {
        "id": "0BtaVlmMwcSz"
      },
      "execution_count": null,
      "outputs": []
    },
    {
      "cell_type": "code",
      "source": [
        "# Reset the index to make the datetime index a column\n",
        "forecast.reset_index(inplace=True)\n",
        "\n",
        "# Rename the datetime index column to 'ds'\n",
        "forecast.rename(columns={'index': 'ds'}, inplace=True)\n",
        "\n",
        "# Set the 'ds' column as the index\n",
        "forecast.set_index('ds', inplace=True)\n",
        "\n",
        "forecast.index\n",
        "\n"
      ],
      "metadata": {
        "id": "upDFuXSUyhZA"
      },
      "execution_count": null,
      "outputs": []
    },
    {
      "cell_type": "code",
      "source": [
        "print(forecast.columns)\n",
        "\n"
      ],
      "metadata": {
        "id": "u8iRTccfyw6y"
      },
      "execution_count": null,
      "outputs": []
    },
    {
      "cell_type": "code",
      "source": [
        "# Reset the index to make the datetime index a column\n",
        "forecast.reset_index(inplace=True)\n",
        "\n",
        "# Rename the datetime index column to 'ds'\n",
        "forecast.rename(columns={'index': 'ds'}, inplace=True)\n",
        "\n",
        "# Set the 'ds' column as the index\n",
        "forecast.set_index('ds', inplace=True)\n",
        "\n",
        "print(forecast.columns)"
      ],
      "metadata": {
        "id": "5sUe79CUzDmF"
      },
      "execution_count": null,
      "outputs": []
    },
    {
      "cell_type": "code",
      "source": [
        "# From the forecast_mercado_trends DataFrame, plot the data to visualize\n",
        "#  the yhat, yhat_lower, and yhat_upper columns over the last 2000 hours\n",
        "# Plot the forecast\n",
        "fig = model.plot(forecast)"
      ],
      "metadata": {
        "id": "C5B9I4PQzYIr"
      },
      "execution_count": null,
      "outputs": []
    },
    {
      "cell_type": "markdown",
      "source": [],
      "metadata": {
        "id": "xEWSYisE2o39"
      }
    }
  ]
}